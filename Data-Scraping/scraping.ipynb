{
 "cells": [
  {
   "cell_type": "code",
   "execution_count": 1,
   "id": "87c6bbf8",
   "metadata": {},
   "outputs": [],
   "source": [
    "from selenium import webdriver\n",
    "from selenium.webdriver.common.by import By\n",
    "import pandas as pd\n",
    "import time\n",
    "import os\n",
    "from dotenv import load_dotenv"
   ]
  },
  {
   "cell_type": "code",
   "execution_count": 2,
   "id": "4f79f8f1",
   "metadata": {},
   "outputs": [],
   "source": [
    "# opening the chrome\n",
    "driver = webdriver.Chrome()\n",
    "uefa = 'https://fbref.com/en/comps/8/2024-2025/2024-2025-Champions-League-Stats'"
   ]
  },
  {
   "cell_type": "code",
   "execution_count": 3,
   "id": "b665de6f",
   "metadata": {},
   "outputs": [],
   "source": [
    "# opening the link\n",
    "driver.get(uefa)"
   ]
  },
  {
   "cell_type": "code",
   "execution_count": 4,
   "id": "3110f81a",
   "metadata": {},
   "outputs": [],
   "source": [
    "# finding the tables\n",
    "tables = driver.find_elements(By.CLASS_NAME,\"stats_table\")"
   ]
  },
  {
   "cell_type": "code",
   "execution_count": 5,
   "id": "952adc30",
   "metadata": {},
   "outputs": [],
   "source": [
    "# first table\n",
    "table = tables[0]"
   ]
  },
  {
   "cell_type": "code",
   "execution_count": 6,
   "id": "b2d52ee6",
   "metadata": {},
   "outputs": [],
   "source": [
    "# Get the full HTML of the table\n",
    "table_html = table.get_attribute('outerHTML')\n",
    "\n",
    "from io import StringIO\n",
    "\n",
    "# Convert to pandas DataFrame\n",
    "df1 = pd.read_html(StringIO(table_html))[0]"
   ]
  },
  {
   "cell_type": "code",
   "execution_count": 7,
   "id": "69d0c5a0",
   "metadata": {},
   "outputs": [],
   "source": [
    "# Drop the Notes column\n",
    "df1 = df1.drop(columns=[\"Notes\"])\n",
    "df1 = df1[~df1.apply(lambda row: row.astype(str).str.contains(\"Squad\").any(), axis=1)]"
   ]
  },
  {
   "cell_type": "code",
   "execution_count": 9,
   "id": "099d1654",
   "metadata": {},
   "outputs": [
    {
     "name": "stdout",
     "output_type": "stream",
     "text": [
      "Saving to: D:/CodeShit/projects/Football-Fantasy-App/Data-Scraping/data2\n"
     ]
    }
   ],
   "source": [
    "load_dotenv()\n",
    "\n",
    "# Get the folder path from .env\n",
    "data_path = os.getenv(\"DATA_PATH\")\n",
    "print(\"Saving to:\", data_path)\n",
    "# Save to CSV\n",
    "df1.to_csv(f\"{data_path}/standing.csv\")"
   ]
  },
  {
   "cell_type": "code",
   "execution_count": 10,
   "id": "3133f8ef",
   "metadata": {},
   "outputs": [],
   "source": [
    "base_url = \"https://fbref.com\" "
   ]
  },
  {
   "cell_type": "code",
   "execution_count": 11,
   "id": "baf2de34",
   "metadata": {},
   "outputs": [],
   "source": [
    "from bs4 import BeautifulSoup"
   ]
  },
  {
   "cell_type": "code",
   "execution_count": 12,
   "id": "f2d4fdfc",
   "metadata": {},
   "outputs": [],
   "source": [
    "soup = BeautifulSoup(table_html,\"lxml\")"
   ]
  },
  {
   "cell_type": "code",
   "execution_count": 13,
   "id": "b98902c3",
   "metadata": {},
   "outputs": [],
   "source": [
    "teams_links1 = []\n",
    "# find all <a> tags in the table\n",
    "for a in soup.find_all(\"a\", href=True):\n",
    "    if \"/squads/\" in a[\"href\"]:   # only squad links\n",
    "        teams_links1.append(\"https://fbref.com\" + a[\"href\"])  # add base url"
   ]
  },
  {
   "cell_type": "code",
   "execution_count": 14,
   "id": "117dffda",
   "metadata": {},
   "outputs": [],
   "source": [
    "# get links for champions league data and team names\n",
    "# takes about 2 min\n",
    "team_links = []\n",
    "team_name = []\n",
    "for team_link in teams_links1:\n",
    "    driver.get(team_link)\n",
    "    team_links.append(driver.find_element(\n",
    "        By.XPATH,\n",
    "        \"//a[contains(@href, 'squads') and contains(@href, 'Champions-League')]\"\n",
    "        ).get_attribute('href')\n",
    "    )\n",
    "    team_name.append(team_link.split(\"/\")[-1].replace(\"-Stats\", \"\"))"
   ]
  },
  {
   "cell_type": "code",
   "execution_count": null,
   "id": "11f9873d",
   "metadata": {},
   "outputs": [],
   "source": [
    "# takes about 2min\n",
    "\n",
    "# Path to folder containing all CSVs\n",
    "squads_path = os.getenv(\"SQUADS_PATH\")\n",
    "for team, teamName in zip(team_links, team_name):\n",
    "    # open the link\n",
    "    driver.get(team)\n",
    "    \n",
    "    # get the stats table for each player\n",
    "    player_table = driver.find_elements(By.CLASS_NAME,\"stats_table\")[0]\n",
    "    \n",
    "    # get its html\n",
    "    pt_html = player_table.get_attribute('outerHTML')\n",
    "    \n",
    "    # delete the useless multi header\n",
    "    df = pd.read_html(StringIO(pt_html), header=1)[0]\n",
    "    \n",
    "    # remove the per90mins stats\n",
    "    df = df.iloc[:, :-11]\n",
    "    df = df.iloc[:-2, :]\n",
    "    \n",
    "    # remove the multi header row if in btw \n",
    "    df = df[~df.apply(lambda row: row.astype(str).str.contains(\"Performance|Gls\").any(), axis=1)]\n",
    "\n",
    "    # Reset index after cleaning\n",
    "    df = df.reset_index(drop=True)\n",
    "    \n",
    "    #save it to /data\n",
    "    df.to_csv(f\"{squads_path}/{teamName}.csv\", encoding=\"utf-8\")\n",
    "    \n",
    "    time.sleep(2)"
   ]
  },
  {
   "cell_type": "code",
   "execution_count": 16,
   "id": "12398684",
   "metadata": {},
   "outputs": [],
   "source": [
    "all_dfs = []\n",
    "\n",
    "for filename in os.listdir(squads_path):\n",
    "    if filename.endswith(\".csv\"):\n",
    "        team_name = filename.replace(\".csv\", \"\")  # Get team name from filename\n",
    "        df = pd.read_csv(os.path.join(squads_path, filename))\n",
    "        \n",
    "        # Add a column for Team name\n",
    "        df[\"Team\"] = team_name  \n",
    "        \n",
    "        all_dfs.append(df)\n",
    "\n",
    "final_df = pd.concat(all_dfs,ignore_index=True)\n",
    "# final_df.rename(columns={df.columns[0]: \"Index\"}, inplace=True)\n",
    "\n",
    "final_df = final_df.drop(final_df.columns[1], axis=1)\n",
    "\n",
    "# Save to one big CSV\n",
    "final_df.to_csv(f\"{data_path}/all_teams_ucl.csv\", index=True, encoding=\"utf-8\")\n"
   ]
  }
 ],
 "metadata": {
  "kernelspec": {
   "display_name": ".venv",
   "language": "python",
   "name": "python3"
  },
  "language_info": {
   "codemirror_mode": {
    "name": "ipython",
    "version": 3
   },
   "file_extension": ".py",
   "mimetype": "text/x-python",
   "name": "python",
   "nbconvert_exporter": "python",
   "pygments_lexer": "ipython3",
   "version": "3.12.6"
  }
 },
 "nbformat": 4,
 "nbformat_minor": 5
}
